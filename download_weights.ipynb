{
 "cells": [
  {
   "cell_type": "code",
   "execution_count": 13,
   "metadata": {},
   "outputs": [
    {
     "data": {
      "application/vnd.jupyter.widget-view+json": {
       "model_id": "ea8b5a6de0024c4c84382301462f8a12",
       "version_major": 2,
       "version_minor": 0
      },
      "text/plain": [
       "Fetching 15 files:   0%|          | 0/15 [00:00<?, ?it/s]"
      ]
     },
     "metadata": {},
     "output_type": "display_data"
    },
    {
     "data": {
      "application/vnd.jupyter.widget-view+json": {
       "model_id": "1ed520f520894bed9c26470b0ac25f9e",
       "version_major": 2,
       "version_minor": 0
      },
      "text/plain": [
       "(…)odel_weights/shikra-7b/added_tokens.json:   0%|          | 0.00/70.0 [00:00<?, ?B/s]"
      ]
     },
     "metadata": {},
     "output_type": "display_data"
    },
    {
     "data": {
      "application/vnd.jupyter.widget-view+json": {
       "model_id": "0b04df65e4e04a65a37d374b86f7610b",
       "version_major": 2,
       "version_minor": 0
      },
      "text/plain": [
       "(…)s/shikra-7b/model.safetensors.index.json:   0%|          | 0.00/24.1k [00:00<?, ?B/s]"
      ]
     },
     "metadata": {},
     "output_type": "display_data"
    },
    {
     "data": {
      "application/vnd.jupyter.widget-view+json": {
       "model_id": "885d6de25b2f48e089f9cad67f7ef398",
       "version_major": 2,
       "version_minor": 0
      },
      "text/plain": [
       "model_weights/shikra-7b/config.json:   0%|          | 0.00/984 [00:00<?, ?B/s]"
      ]
     },
     "metadata": {},
     "output_type": "display_data"
    },
    {
     "data": {
      "application/vnd.jupyter.widget-view+json": {
       "model_id": "79bf9fcc412a4109acc456499838dab6",
       "version_major": 2,
       "version_minor": 0
      },
      "text/plain": [
       "(…)weights/shikra-7b/generation_config.json:   0%|          | 0.00/137 [00:00<?, ?B/s]"
      ]
     },
     "metadata": {},
     "output_type": "display_data"
    },
    {
     "data": {
      "application/vnd.jupyter.widget-view+json": {
       "model_id": "f0dedaaa496f4e5ab6d8485852ba1f5e",
       "version_major": 2,
       "version_minor": 0
      },
      "text/plain": [
       "model-00002-of-00003.safetensors:   0%|          | 0.00/4.95G [00:00<?, ?B/s]"
      ]
     },
     "metadata": {},
     "output_type": "display_data"
    },
    {
     "data": {
      "application/vnd.jupyter.widget-view+json": {
       "model_id": "1f74c33a0d9542e6b9bc82079c1dd184",
       "version_major": 2,
       "version_minor": 0
      },
      "text/plain": [
       "mm_projector.bin:   0%|          | 0.00/8.40M [00:00<?, ?B/s]"
      ]
     },
     "metadata": {},
     "output_type": "display_data"
    },
    {
     "data": {
      "application/vnd.jupyter.widget-view+json": {
       "model_id": "8582caa662a3493fa3bdd214f2f99518",
       "version_major": 2,
       "version_minor": 0
      },
      "text/plain": [
       "model-00003-of-00003.safetensors:   0%|          | 0.00/3.60G [00:00<?, ?B/s]"
      ]
     },
     "metadata": {},
     "output_type": "display_data"
    },
    {
     "data": {
      "application/vnd.jupyter.widget-view+json": {
       "model_id": "40777d75eab44e43947d8e8a708f625a",
       "version_major": 2,
       "version_minor": 0
      },
      "text/plain": [
       "model-00001-of-00003.safetensors:   0%|          | 0.00/4.94G [00:00<?, ?B/s]"
      ]
     },
     "metadata": {},
     "output_type": "display_data"
    },
    {
     "data": {
      "application/vnd.jupyter.widget-view+json": {
       "model_id": "f0a6a037c7304143b35e96f9e5fd7453",
       "version_major": 2,
       "version_minor": 0
      },
      "text/plain": [
       "model_weights/shikra-7b/tokenizer.json:   0%|          | 0.00/1.84M [00:00<?, ?B/s]"
      ]
     },
     "metadata": {},
     "output_type": "display_data"
    },
    {
     "data": {
      "application/vnd.jupyter.widget-view+json": {
       "model_id": "3ab4504bc256409a94b70d1e9db96c95",
       "version_major": 2,
       "version_minor": 0
      },
      "text/plain": [
       "(…)eights/shikra-7b/special_tokens_map.json:   0%|          | 0.00/549 [00:00<?, ?B/s]"
      ]
     },
     "metadata": {},
     "output_type": "display_data"
    },
    {
     "data": {
      "application/vnd.jupyter.widget-view+json": {
       "model_id": "84dc9cf8af614060afff8d78cfa8bae1",
       "version_major": 2,
       "version_minor": 0
      },
      "text/plain": [
       "tokenizer.model:   0%|          | 0.00/500k [00:00<?, ?B/s]"
      ]
     },
     "metadata": {},
     "output_type": "display_data"
    },
    {
     "data": {
      "application/vnd.jupyter.widget-view+json": {
       "model_id": "05661b1312d14cd18a053296a579b5ce",
       "version_major": 2,
       "version_minor": 0
      },
      "text/plain": [
       "(…)_weights/shikra-7b/tokenizer_config.json:   0%|          | 0.00/1.46k [00:00<?, ?B/s]"
      ]
     },
     "metadata": {},
     "output_type": "display_data"
    },
    {
     "data": {
      "application/vnd.jupyter.widget-view+json": {
       "model_id": "283ee38cc31c4b51bbc762dcb8b5d9f1",
       "version_major": 2,
       "version_minor": 0
      },
      "text/plain": [
       "last.pth:   0%|          | 0.00/1.76G [00:00<?, ?B/s]"
      ]
     },
     "metadata": {},
     "output_type": "display_data"
    },
    {
     "data": {
      "application/vnd.jupyter.widget-view+json": {
       "model_id": "49b81516ea7e4e56a3c06aeabc57fb1f",
       "version_major": 2,
       "version_minor": 0
      },
      "text/plain": [
       "brainx.pth:   0%|          | 0.00/1.76G [00:00<?, ?B/s]"
      ]
     },
     "metadata": {},
     "output_type": "display_data"
    },
    {
     "data": {
      "application/vnd.jupyter.widget-view+json": {
       "model_id": "417bd165adbf43b7988ae5e4051f8053",
       "version_major": 2,
       "version_minor": 0
      },
      "text/plain": [
       "last.pth:   0%|          | 0.00/1.76G [00:00<?, ?B/s]"
      ]
     },
     "metadata": {},
     "output_type": "display_data"
    }
   ],
   "source": [
    "from huggingface_hub import snapshot_download; snapshot_download(repo_id=\"weihaox/brainx\", repo_type=\"dataset\", local_dir=\"./UMBRAE/weights\", ignore_patterns=[\"all_images.pt\", \".gitattributes\"])"
   ]
  }
 ],
 "metadata": {
  "kernelspec": {
   "display_name": "Python 3 (ipykernel)",
   "language": "python",
   "name": "python3"
  }
 },
 "nbformat": 4,
 "nbformat_minor": 2
}
