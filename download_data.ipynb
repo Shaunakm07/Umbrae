{
 "cells": [
  {
   "cell_type": "code",
   "execution_count": 1,
   "metadata": {},
   "outputs": [
    {
     "name": "stdout",
     "output_type": "stream",
     "text": [
      "Sat Aug  3 15:38:43 2024       \n",
      "+-----------------------------------------------------------------------------------------+\n",
      "| NVIDIA-SMI 550.90.07              Driver Version: 550.90.07      CUDA Version: 12.4     |\n",
      "|-----------------------------------------+------------------------+----------------------+\n",
      "| GPU  Name                 Persistence-M | Bus-Id          Disp.A | Volatile Uncorr. ECC |\n",
      "| Fan  Temp   Perf          Pwr:Usage/Cap |           Memory-Usage | GPU-Util  Compute M. |\n",
      "|                                         |                        |               MIG M. |\n",
      "|=========================================+========================+======================|\n",
      "|   0  NVIDIA GeForce RTX 2080 ...    Off |   00000000:01:00.0 Off |                  N/A |\n",
      "|  0%   37C    P8             22W /  250W |       4MiB /   8192MiB |      0%      Default |\n",
      "|                                         |                        |                  N/A |\n",
      "+-----------------------------------------+------------------------+----------------------+\n",
      "|   1  NVIDIA GeForce RTX 2080 ...    Off |   00000000:04:00.0 Off |                  N/A |\n",
      "|  0%   44C    P8             13W /  250W |       4MiB /   8192MiB |      0%      Default |\n",
      "|                                         |                        |                  N/A |\n",
      "+-----------------------------------------+------------------------+----------------------+\n",
      "                                                                                         \n",
      "+-----------------------------------------------------------------------------------------+\n",
      "| Processes:                                                                              |\n",
      "|  GPU   GI   CI        PID   Type   Process name                              GPU Memory |\n",
      "|        ID   ID                                                               Usage      |\n",
      "|=========================================================================================|\n",
      "|  No running processes found                                                             |\n",
      "+-----------------------------------------------------------------------------------------+\n"
     ]
    }
   ],
   "source": [
    "# connected to NVIDIA drivers with CUDA.\n",
    "!nvidia-smi"
   ]
  },
  {
   "cell_type": "code",
   "execution_count": 109,
   "metadata": {},
   "outputs": [],
   "source": [
    "import os \n",
    "from pathlib import Path \n",
    "import wget"
   ]
  },
  {
   "cell_type": "code",
   "execution_count": 5,
   "metadata": {},
   "outputs": [],
   "source": [
    "destination = \"../data/nsd\""
   ]
  },
  {
   "cell_type": "code",
   "execution_count": 114,
   "metadata": {},
   "outputs": [],
   "source": [
    "# Make dataset directories\n",
    "subdirs=(\"train\", \"test\", \"val\", \"images\")\n",
    "\n",
    "for dir in subdirs:\n",
    "    nsd_path = Path(f\"../data/nsd/{dir}\")\n",
    "    nsd_path.mkdir(parents=True, exist_ok=True)"
   ]
  },
  {
   "cell_type": "code",
   "execution_count": 110,
   "metadata": {},
   "outputs": [],
   "source": [
    "os.listdir(destination)\n",
    "subjects = [1, 2, 5, 7]"
   ]
  },
  {
   "cell_type": "code",
   "execution_count": 33,
   "metadata": {},
   "outputs": [
    {
     "name": "stdout",
     "output_type": "stream",
     "text": [
      "downloading subject 7\n",
      "example 11\n",
      "example 12\n",
      "example 13\n",
      "example 14\n",
      "example 15\n",
      "example 16\n",
      "example 17\n"
     ]
    }
   ],
   "source": [
    "# Download train subjects\n",
    "for i in subjects:\n",
    "    print(f\"downloading subject {i}\")\n",
    "    for j in range(0, 18):\n",
    "        url=f\"https://huggingface.co/datasets/pscotti/naturalscenesdataset/resolve/main/webdataset_avg_split/train/train_subj0{i}_{j}.tar\" \n",
    "        print(f\"example {j}\")\n",
    "        file = wget.download(url, out=destination + \"/train\")"
   ]
  },
  {
   "cell_type": "code",
   "execution_count": 111,
   "metadata": {},
   "outputs": [
    {
     "name": "stdout",
     "output_type": "stream",
     "text": [
      "downloading validation example 1\n",
      "downloading validation example 2\n",
      "downloading validation example 5\n",
      "downloading validation example 7\n"
     ]
    }
   ],
   "source": [
    "# Download the validation set \n",
    "for i in subjects:\n",
    "    url=f\"https://huggingface.co/datasets/pscotti/naturalscenesdataset/resolve/main/webdataset_avg_split/val/val_subj0{i}_0.tar\"    \n",
    "    print(f\"downloading validation example {i}\")\n",
    "    file = wget.download(url, out=destination + \"/val\")"
   ]
  },
  {
   "cell_type": "code",
   "execution_count": 113,
   "metadata": {},
   "outputs": [
    {
     "name": "stdout",
     "output_type": "stream",
     "text": [
      "downloading test subject 1\n",
      "downloading test example 0\n",
      "downloading test example 1\n",
      "downloading test subject 2\n",
      "downloading test example 0\n",
      "downloading test example 1\n",
      "downloading test subject 5\n",
      "downloading test example 0\n",
      "downloading test example 1\n",
      "downloading test subject 7\n",
      "downloading test example 0\n",
      "downloading test example 1\n"
     ]
    }
   ],
   "source": [
    "# Download the test set \n",
    "for i in subjects:\n",
    "    print(f\"downloading test subject {i}\")\n",
    "    for j in range(0,2):\n",
    "        url=f\"https://huggingface.co/datasets/pscotti/naturalscenesdataset/resolve/main/webdataset_avg_split/test/test_subj0{i}_{j}.tar\"    \n",
    "        print(f\"downloading test example {j}\")\n",
    "        file = wget.download(url, out=destination + \"/test\")"
   ]
  },
  {
   "cell_type": "code",
   "execution_count": 115,
   "metadata": {},
   "outputs": [],
   "source": [
    "# Download the test set images for evaluation \n",
    "images = wget.download(\"https://huggingface.co/datasets/weihaox/brainx/resolve/main/all_images.pt\", out=destination + \"/images\")"
   ]
  }
 ],
 "metadata": {
  "kernelspec": {
   "display_name": "Python 3 (ipykernel)",
   "language": "python",
   "name": "python3"
  }
 },
 "nbformat": 4,
 "nbformat_minor": 2
}
